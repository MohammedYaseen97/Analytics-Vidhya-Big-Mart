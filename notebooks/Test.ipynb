{
 "cells": [
  {
   "cell_type": "code",
   "execution_count": 2,
   "metadata": {},
   "outputs": [],
   "source": [
    "import pandas as pd\n",
    "from sklearn import model_selection"
   ]
  },
  {
   "cell_type": "code",
   "execution_count": 10,
   "metadata": {},
   "outputs": [
    {
     "name": "stdout",
     "output_type": "stream",
     "text": [
      "0 [119174 119184 119200 ... 599997 599998 599999] [     0      1      2 ... 120184 120186 120187]\n",
      "1 [     0      1      2 ... 599997 599998 599999] [119174 119184 119200 ... 240215 240216 240217]\n",
      "2 [     0      1      2 ... 599997 599998 599999] [239130 239135 239137 ... 360370 360373 360374]\n",
      "3 [     0      1      2 ... 599997 599998 599999] [358241 358255 358256 ... 480158 480159 480160]\n",
      "4 [     0      1      2 ... 480158 480159 480160] [479270 479274 479281 ... 599997 599998 599999]\n",
      "   id  bin_0  bin_1  bin_2 bin_3 bin_4 nom_0      nom_1    nom_2       nom_3  \\\n",
      "0   0    0.0    0.0    0.0     F     N   Red  Trapezoid  Hamster      Russia   \n",
      "1   1    1.0    1.0    0.0     F     Y   Red       Star  Axolotl         NaN   \n",
      "2   2    0.0    1.0    0.0     F     N   Red        NaN  Hamster      Canada   \n",
      "3   3    NaN    0.0    0.0     F     N   Red     Circle  Hamster     Finland   \n",
      "4   4    0.0    NaN    0.0     T     N   Red   Triangle  Hamster  Costa Rica   \n",
      "\n",
      "   ... ord_0        ord_1     ord_2 ord_3 ord_4 ord_5  day month target kfold  \n",
      "0  ...   3.0  Contributor       Hot     c     U    Pw  6.0   3.0      0    -1  \n",
      "1  ...   3.0  Grandmaster      Warm     e     X    pE  7.0   7.0      0    -1  \n",
      "2  ...   3.0          NaN  Freezing     n     P    eN  5.0   9.0      0    -1  \n",
      "3  ...   1.0       Novice  Lava Hot     a     C   NaN  3.0   3.0      0    -1  \n",
      "4  ...   3.0  Grandmaster      Cold     h     C    OZ  5.0  12.0      0    -1  \n",
      "\n",
      "[5 rows x 26 columns]\n"
     ]
    }
   ],
   "source": [
    "if __name__ == \"__main__\":\n",
    "    df = pd.read_csv(\"train2.csv\")\n",
    "    df[\"kfold\"]=-1\n",
    "    df.sample(frac=1).reset_index(drop=True)\n",
    "    y=df.target.values\n",
    "    \n",
    "    kf = model_selection.StratifiedKFold(n_splits=5)\n",
    "    \n",
    "    for f, (t_, v_) in enumerate(kf.split(X=df, y=y)):\n",
    "        print(f, t_, v_)\n",
    "    \n",
    "    print(df.head())"
   ]
  }
 ],
 "metadata": {
  "kernelspec": {
   "display_name": "Python 3",
   "language": "python",
   "name": "python3"
  },
  "language_info": {
   "codemirror_mode": {
    "name": "ipython",
    "version": 3
   },
   "file_extension": ".py",
   "mimetype": "text/x-python",
   "name": "python",
   "nbconvert_exporter": "python",
   "pygments_lexer": "ipython3",
   "version": "3.7.9"
  }
 },
 "nbformat": 4,
 "nbformat_minor": 4
}
