{
 "cells": [
  {
   "cell_type": "code",
   "execution_count": 1,
   "metadata": {},
   "outputs": [],
   "source": [
    "import pandas as pd\n",
    "import numpy as np\n",
    "import os\n",
    "from sklearn.metrics import mean_squared_error\n",
    "from math import sqrt\n",
    "\n",
    "import config\n",
    "import models"
   ]
  },
  {
   "cell_type": "code",
   "execution_count": 2,
   "metadata": {},
   "outputs": [],
   "source": [
    "def run(fold):\n",
    "    try:\n",
    "        df = pd.read_csv(os.path.join(config.INPUT_PATH, 'train_folds.csv'))\n",
    "    except:\n",
    "        print(\"File not opened!\")\n",
    "    \n",
    "    # combining Item_Fat_Content misspelled\n",
    "    df['Item_Fat_Content'].replace(['low fat','LF','reg'],['Low Fat','Low Fat','Regular'],inplace = True)\n",
    "\n",
    "    #Filling in missing values\n",
    "    df['Item_Weight'] = df.groupby('Item_Identifier')['Item_Weight'].apply(lambda x: x.fillna(x.mean()))\n",
    "    df['Outlet_Size'] = df.groupby('Outlet_Identifier')['Outlet_Size'].apply(lambda x: x.fillna(x.min()))\n",
    "    \n",
    "#     for name, group in df.groupby('Item_Identifier'):\n",
    "#         print(name, group['Item_Weight'].mean())\n",
    "    \n",
    "    df['Item_Weight'].fillna(df['Item_Weight'].mean(), inplace=True)\n",
    "    df['Outlet_Size'].fillna('Unknown', inplace=True)\n",
    "\n",
    "    #Distinguishing features for categorical and numerical\n",
    "    cat_features = ['Item_Fat_Content', 'Item_Type', 'Outlet_Size', 'Outlet_Location_Type', 'Outlet_Type']\n",
    "\n",
    "    num_features = [f for f in df.columns if f not in cat_features]\n",
    "\n",
    "    #One-Hot Encoding\n",
    "    new_df = pd.get_dummies(df, columns=cat_features, drop_first=True)\n",
    "\n",
    "    #Dropping first column\n",
    "    new_df = new_df.drop(df.columns[0], axis=1)\n",
    "#     print(new_df.head())\n",
    "    \n",
    "    #Dividing into train and val\n",
    "    train_df = new_df[new_df.kfold != fold].reset_index(drop=True)\n",
    "    val_df = new_df[new_df.kfold == fold].reset_index(drop=True)\n",
    "    \n",
    "    final_features = [feature for feature in new_df.columns if feature not in ['kfold', 'Item_Outlet_Sales', 'Item_Identifier', 'Outlet_Identifier']]\n",
    "    \n",
    "    x_train = train_df[final_features]\n",
    "    y_train = train_df['Item_Outlet_Sales'].values\n",
    "    \n",
    "    x_val = val_df[final_features]\n",
    "    y_val = val_df['Item_Outlet_Sales'].values\n",
    "#     print(x_val.head())\n",
    "\n",
    "    model = models.MODEL\n",
    "    model.fit(x_train, y_train)\n",
    "    \n",
    "    y_pred = model.predict(x_val)\n",
    "    rms = sqrt(mean_squared_error(y_val, y_pred))\n",
    "    print(\"Fold : {}, RMSE : {}\".format(fold, rms))"
   ]
  },
  {
   "cell_type": "code",
   "execution_count": 3,
   "metadata": {},
   "outputs": [
    {
     "name": "stdout",
     "output_type": "stream",
     "text": [
      "Fold : 0, RMSE : 1128.296113441371\n",
      "Fold : 1, RMSE : 1141.2071172736114\n",
      "Fold : 2, RMSE : 1147.3242575786674\n",
      "Fold : 3, RMSE : 1118.8060642201688\n",
      "Fold : 4, RMSE : 1125.1541705222805\n"
     ]
    }
   ],
   "source": [
    "#Linear Regression\n",
    "if __name__ == \"__main__\":\n",
    "    run(0)\n",
    "    run(1)\n",
    "    run(2)\n",
    "    run(3)\n",
    "    run(4)"
   ]
  },
  {
   "cell_type": "code",
   "execution_count": 3,
   "metadata": {},
   "outputs": [
    {
     "name": "stdout",
     "output_type": "stream",
     "text": [
      "Fold : 0, RMSE : 1144.4150894051386\n",
      "Fold : 1, RMSE : 1177.6009087457987\n",
      "Fold : 2, RMSE : 1192.953892585588\n",
      "Fold : 3, RMSE : 1184.183435683417\n",
      "Fold : 4, RMSE : 1154.32520766831\n"
     ]
    }
   ],
   "source": [
    "#XGBoost Regressor\n",
    "if __name__ == \"__main__\":\n",
    "    run(0)\n",
    "    run(1)\n",
    "    run(2)\n",
    "    run(3)\n",
    "    run(4)"
   ]
  },
  {
   "cell_type": "code",
   "execution_count": null,
   "metadata": {},
   "outputs": [],
   "source": []
  }
 ],
 "metadata": {
  "kernelspec": {
   "display_name": "Python 3",
   "language": "python",
   "name": "python3"
  },
  "language_info": {
   "codemirror_mode": {
    "name": "ipython",
    "version": 3
   },
   "file_extension": ".py",
   "mimetype": "text/x-python",
   "name": "python",
   "nbconvert_exporter": "python",
   "pygments_lexer": "ipython3",
   "version": "3.7.9"
  }
 },
 "nbformat": 4,
 "nbformat_minor": 4
}
