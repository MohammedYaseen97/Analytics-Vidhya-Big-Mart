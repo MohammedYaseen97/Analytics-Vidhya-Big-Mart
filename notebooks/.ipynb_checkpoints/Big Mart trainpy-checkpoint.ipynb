{
 "cells": [
  {
   "cell_type": "code",
   "execution_count": 1,
   "metadata": {},
   "outputs": [],
   "source": [
    "import pandas as pd\n",
    "import numpy as np\n",
    "import os\n",
    "from sklearn import preprocessing\n",
    "from sklearn import linear_model\n",
    "\n",
    "import config"
   ]
  },
  {
   "cell_type": "code",
   "execution_count": 27,
   "metadata": {},
   "outputs": [],
   "source": [
    "try:\n",
    "    df = pd.read_csv(os.path.join(config.INPUT_PATH, 'train_folds.csv'))\n",
    "except:\n",
    "    print(\"File not opened!\")\n",
    "\n",
    "#Filling in missing values\n",
    "df['Item_Weight'].fillna(df['Item_Weight'].mean(), inplace=True)\n",
    "df['Outlet_Size'].fillna('Medium', inplace=True)\n",
    "\n",
    "#Distinguishing features for categorical and numerical\n",
    "cat_features = ['Item_Fat_Content', 'Item_Type', 'Outlet_Size', 'Outlet_Location_Type', 'Outlet_Type']\n",
    "\n",
    "num_features = [f for f in df.columns if f not in cat_features]\n",
    "\n",
    "#One-Hot Encoding\n",
    "df_cat = pd.get_dummies(df, columns=cat_features, drop_first=True)\n",
    "\n",
    "new_df = pd.concat([df[num_features], df_cat], axis=1)\n",
    "\n",
    "#Dropping first column\n",
    "new_df = new_df.drop(df.columns[0], axis=1)"
   ]
  },
  {
   "cell_type": "code",
   "execution_count": 28,
   "metadata": {},
   "outputs": [
    {
     "name": "stdout",
     "output_type": "stream",
     "text": [
      "  Item_Identifier  Item_Weight  Item_Visibility  Item_MRP Outlet_Identifier  \\\n",
      "0           FDK14     6.980000         0.041189   82.8934            OUT045   \n",
      "1           NCI17     8.645000         0.144007   94.7410            OUT018   \n",
      "2           FDW31    12.857645         0.042949  199.5742            OUT027   \n",
      "3           FDX31    20.350000         0.024815  234.0958            OUT010   \n",
      "4           DRD24    12.857645         0.030646  141.7154            OUT027   \n",
      "\n",
      "   Outlet_Establishment_Year  Item_Outlet_Sales  kfold Item_Identifier  \\\n",
      "0                       2002           818.9340      1           FDK14   \n",
      "1                       2009          1061.9510      1           NCI17   \n",
      "2                       1985          3981.4840      3           FDW31   \n",
      "3                       1998           467.3916      3           FDX31   \n",
      "4                       1985          2694.4926      4           DRD24   \n",
      "\n",
      "   Item_Weight  ...  Item_Type_Snack Foods  Item_Type_Soft Drinks  \\\n",
      "0     6.980000  ...                      0                      0   \n",
      "1     8.645000  ...                      0                      0   \n",
      "2    12.857645  ...                      0                      0   \n",
      "3    20.350000  ...                      0                      0   \n",
      "4    12.857645  ...                      0                      1   \n",
      "\n",
      "  Item_Type_Starchy Foods  Outlet_Size_Medium  Outlet_Size_Small  \\\n",
      "0                       0                   1                  0   \n",
      "1                       0                   1                  0   \n",
      "2                       0                   1                  0   \n",
      "3                       0                   1                  0   \n",
      "4                       0                   1                  0   \n",
      "\n",
      "   Outlet_Location_Type_Tier 2  Outlet_Location_Type_Tier 3  \\\n",
      "0                            1                            0   \n",
      "1                            0                            1   \n",
      "2                            0                            1   \n",
      "3                            0                            1   \n",
      "4                            0                            1   \n",
      "\n",
      "   Outlet_Type_Supermarket Type1  Outlet_Type_Supermarket Type2  \\\n",
      "0                              1                              0   \n",
      "1                              0                              1   \n",
      "2                              0                              0   \n",
      "3                              0                              0   \n",
      "4                              0                              0   \n",
      "\n",
      "   Outlet_Type_Supermarket Type3  \n",
      "0                              0  \n",
      "1                              0  \n",
      "2                              1  \n",
      "3                              0  \n",
      "4                              1  \n",
      "\n",
      "[5 rows x 42 columns]\n"
     ]
    }
   ],
   "source": [
    "print(new_df.head())"
   ]
  },
  {
   "cell_type": "code",
   "execution_count": null,
   "metadata": {},
   "outputs": [],
   "source": []
  }
 ],
 "metadata": {
  "kernelspec": {
   "display_name": "Python 3",
   "language": "python",
   "name": "python3"
  },
  "language_info": {
   "codemirror_mode": {
    "name": "ipython",
    "version": 3
   },
   "file_extension": ".py",
   "mimetype": "text/x-python",
   "name": "python",
   "nbconvert_exporter": "python",
   "pygments_lexer": "ipython3",
   "version": "3.7.9"
  }
 },
 "nbformat": 4,
 "nbformat_minor": 4
}
