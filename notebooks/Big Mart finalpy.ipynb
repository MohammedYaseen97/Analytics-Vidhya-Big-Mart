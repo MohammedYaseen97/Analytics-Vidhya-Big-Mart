{
 "cells": [
  {
   "cell_type": "code",
   "execution_count": 1,
   "metadata": {},
   "outputs": [],
   "source": [
    "import pandas as pd\n",
    "import numpy as np\n",
    "import os\n",
    "from sklearn.metrics import mean_squared_error\n",
    "from math import sqrt\n",
    "\n",
    "import config\n",
    "import models"
   ]
  },
  {
   "cell_type": "code",
   "execution_count": 4,
   "metadata": {},
   "outputs": [],
   "source": [
    "try:\n",
    "    train = pd.read_csv(os.path.join(config.INPUT_PATH, 'train.csv'))\n",
    "    test = pd.read_csv(os.path.join(config.INPUT_PATH, 'test.csv'))\n",
    "except:\n",
    "    print(\"Files not opened!\")\n",
    "\n",
    "#Changing the year to number of years operated\n",
    "train['Outlet_Establishment_Year'] = train['Outlet_Establishment_Year'] - 2013\n",
    "test['Outlet_Establishment_Year'] = test['Outlet_Establishment_Year'] - 2013\n",
    "\n",
    "# combining Item_Fat_Content misspelled\n",
    "train['Item_Fat_Content'].replace(['low fat','LF','reg'],['Low Fat','Low Fat','Regular'],inplace = True)\n",
    "test['Item_Fat_Content'].replace(['low fat','LF','reg'],['Low Fat','Low Fat','Regular'],inplace = True)\n",
    "\n",
    "#Filling in missing values\n",
    "train['Item_Weight'] = train.groupby('Item_Identifier')['Item_Weight'].apply(lambda x: x.fillna(x.mean()))\n",
    "train['Outlet_Size'] = train.groupby('Outlet_Identifier')['Outlet_Size'].apply(lambda x: x.fillna(x.min()))\n",
    "\n",
    "test['Item_Weight'] = test.groupby('Item_Identifier')['Item_Weight'].apply(lambda x: x.fillna(x.mean()))\n",
    "test['Outlet_Size'] = test.groupby('Outlet_Identifier')['Outlet_Size'].apply(lambda x: x.fillna(x.min()))\n",
    "\n",
    "train['Item_Weight'].fillna(train['Item_Weight'].mean(), inplace=True)\n",
    "train['Outlet_Size'].fillna('Medium', inplace=True)\n",
    "\n",
    "test['Item_Weight'].fillna(test['Item_Weight'].mean(), inplace=True)\n",
    "test['Outlet_Size'].fillna('Medium', inplace=True)\n",
    "\n",
    "#Distinguishing features for categorical and numerical\n",
    "cat_features = ['Item_Fat_Content', 'Item_Type', 'Outlet_Size', 'Outlet_Location_Type', 'Outlet_Type']\n",
    "\n",
    "num_features = [f for f in train.columns if f not in cat_features]\n",
    "\n",
    "#One-Hot Encoding\n",
    "new_df_train = pd.get_dummies(train, columns=cat_features, drop_first=True)\n",
    "new_df_test = pd.get_dummies(test, columns=cat_features, drop_first=True)\n",
    "\n",
    "#Dropping first column\n",
    "new_df_train = new_df_train.drop(new_df_train.columns[0], axis=1)\n",
    "new_df_test = new_df_test.drop(new_df_test.columns[0], axis=1)\n",
    "\n",
    "final_features = [feature for feature in new_df_train.columns if feature not in ['Item_Outlet_Sales', 'Item_Identifier', 'Outlet_Identifier']]\n",
    "\n",
    "#Shuffling training set\n",
    "new_df_train = new_df_train.reset_index(drop=True)\n",
    "\n",
    "x_train = new_df_train[final_features]\n",
    "y_train = new_df_train['Item_Outlet_Sales'].values\n",
    "\n",
    "x_test = new_df_test[final_features]\n",
    "\n",
    "model = models.MODEL\n",
    "model.fit(x_train, y_train)\n",
    "\n",
    "y_pred = model.predict(x_test)\n",
    "\n",
    "output_df = pd.DataFrame({\n",
    "    \"Item_Identifier\": test['Item_Identifier'].values,\n",
    "    \"Outlet_Identifier\" : test['Outlet_Identifier'].values,\n",
    "    \"Item_Outlet_Sales\" : [max(0, res) for res in y_pred]\n",
    "})\n",
    "\n",
    "output_df.to_csv(os.path.join(config.OUTPUT_PATH, 'submission.csv'), index=False)"
   ]
  },
  {
   "cell_type": "code",
   "execution_count": null,
   "metadata": {},
   "outputs": [],
   "source": []
  }
 ],
 "metadata": {
  "kernelspec": {
   "display_name": "Python 3",
   "language": "python",
   "name": "python3"
  },
  "language_info": {
   "codemirror_mode": {
    "name": "ipython",
    "version": 3
   },
   "file_extension": ".py",
   "mimetype": "text/x-python",
   "name": "python",
   "nbconvert_exporter": "python",
   "pygments_lexer": "ipython3",
   "version": "3.7.9"
  }
 },
 "nbformat": 4,
 "nbformat_minor": 4
}
